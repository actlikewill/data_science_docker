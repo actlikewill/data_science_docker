{
 "cells": [
  {
   "cell_type": "markdown",
   "id": "9eb79c7c",
   "metadata": {},
   "source": [
    "## Unicode Text Vs Bytes\n",
    "\n",
    "- Python encodes strings using the UTF standard. It converts between bytes and human readable strings."
   ]
  },
  {
   "cell_type": "code",
   "execution_count": 3,
   "id": "5ba0f218",
   "metadata": {},
   "outputs": [
    {
     "data": {
      "text/plain": [
       "b'caf\\xc3\\xa9'"
      ]
     },
     "execution_count": 3,
     "metadata": {},
     "output_type": "execute_result"
    }
   ],
   "source": [
    "s = \"café\"\n",
    "s.encode('utf-8')"
   ]
  },
  {
   "cell_type": "code",
   "execution_count": null,
   "id": "ad7d2b9c",
   "metadata": {},
   "outputs": [],
   "source": []
  }
 ],
 "metadata": {
  "kernelspec": {
   "display_name": "Python 3 (ipykernel)",
   "language": "python",
   "name": "python3"
  },
  "language_info": {
   "codemirror_mode": {
    "name": "ipython",
    "version": 3
   },
   "file_extension": ".py",
   "mimetype": "text/x-python",
   "name": "python",
   "nbconvert_exporter": "python",
   "pygments_lexer": "ipython3",
   "version": "3.9.13"
  }
 },
 "nbformat": 4,
 "nbformat_minor": 5
}
