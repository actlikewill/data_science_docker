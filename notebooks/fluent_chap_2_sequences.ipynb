{
 "cells": [
  {
   "cell_type": "markdown",
   "id": "fe19c1f8",
   "metadata": {},
   "source": [
    "# 💻Fluent Python 🐍\n",
    "\n",
    "Taking Python to the next level.\n"
   ]
  },
  {
   "cell_type": "markdown",
   "id": "9b7a2f7b",
   "metadata": {},
   "source": [
    "### Chapter 2: Sequences"
   ]
  },
  {
   "cell_type": "markdown",
   "id": "c3ef92d0",
   "metadata": {},
   "source": [
    "- The collections module implements various sequences that are implemented by the Sequence class\n",
    "- You can categorize them in various ways eg:\n",
    "    - Flat or Container - Flat contain elements of one type while containers containe multiple types\n",
    "    - Mutable or Immutable- Mutable sequences can be changed while immutable sequences cannot."
   ]
  },
  {
   "cell_type": "markdown",
   "id": "8fc8df76",
   "metadata": {},
   "source": [
    "---\n",
    "#### Available Types in the collections.abc module"
   ]
  },
  {
   "cell_type": "code",
   "execution_count": 4,
   "id": "8e6233b5",
   "metadata": {},
   "outputs": [
    {
     "data": {
      "text/plain": [
       "['AsyncGenerator',\n",
       " 'AsyncIterable',\n",
       " 'AsyncIterator',\n",
       " 'Awaitable',\n",
       " 'ByteString',\n",
       " 'Callable',\n",
       " 'Collection',\n",
       " 'Container',\n",
       " 'Coroutine',\n",
       " 'Generator',\n",
       " 'Hashable',\n",
       " 'ItemsView',\n",
       " 'Iterable',\n",
       " 'Iterator',\n",
       " 'KeysView',\n",
       " 'Mapping',\n",
       " 'MappingView',\n",
       " 'MutableMapping',\n",
       " 'MutableSequence',\n",
       " 'MutableSet',\n",
       " 'Reversible',\n",
       " 'Sequence',\n",
       " 'Set',\n",
       " 'Sized',\n",
       " 'ValuesView',\n",
       " '_CallableGenericAlias',\n",
       " '__all__',\n",
       " '__builtins__',\n",
       " '__cached__',\n",
       " '__doc__',\n",
       " '__file__',\n",
       " '__loader__',\n",
       " '__name__',\n",
       " '__package__',\n",
       " '__spec__']"
      ]
     },
     "execution_count": 4,
     "metadata": {},
     "output_type": "execute_result"
    }
   ],
   "source": [
    "from collections import abc\n",
    "dir(abc)"
   ]
  },
  {
   "cell_type": "markdown",
   "id": "e3f18b8c",
   "metadata": {},
   "source": [
    "### List Comprehensions\n",
    "\n",
    "Listcomps are great for creating ... **lists!**.<br>\n",
    "They are a *mutable container sequence type*.<br>\n",
    "The syntax for listcomps is more *readable* than for loops or map/filter or lambda functions. "
   ]
  },
  {
   "cell_type": "markdown",
   "id": "d28c9c58",
   "metadata": {},
   "source": [
    "*Simple list comp showing ordinal values of ascii characters*\n"
   ]
  },
  {
   "cell_type": "code",
   "execution_count": 8,
   "id": "e33c3c48",
   "metadata": {},
   "outputs": [
    {
     "data": {
      "text/plain": [
       "[36, 162, 163, 165, 8364, 164]"
      ]
     },
     "execution_count": 8,
     "metadata": {},
     "output_type": "execute_result"
    }
   ],
   "source": [
    "symbols = '$¢£¥€¤'\n",
    "[ord(symbol) for symbol in symbols]"
   ]
  },
  {
   "cell_type": "markdown",
   "id": "d8df5b75",
   "metadata": {},
   "source": [
    "##### Walrus Operator\n",
    "\n",
    "The walrus operator `:=` pulls variables from within the local scope of a listcomp into the global scope. "
   ]
  },
  {
   "cell_type": "code",
   "execution_count": 10,
   "id": "1bdadfa9",
   "metadata": {},
   "outputs": [
    {
     "data": {
      "text/plain": [
       "164"
      ]
     },
     "execution_count": 10,
     "metadata": {},
     "output_type": "execute_result"
    }
   ],
   "source": [
    "[last := ord(symbol) for symbol in symbols]\n",
    "# The 'last' variable will hold the last value in the loop in this case\n",
    "last"
   ]
  },
  {
   "cell_type": "markdown",
   "id": "42590bb0",
   "metadata": {},
   "source": [
    "##### Cartesian Products\n",
    "\n",
    "Listcomps are great for creating cartesian products i.e combining two or more arrays into an ordered set of values"
   ]
  },
  {
   "cell_type": "code",
   "execution_count": 16,
   "id": "f562ee2b",
   "metadata": {},
   "outputs": [
    {
     "data": {
      "text/plain": [
       "[('black', 'small'),\n",
       " ('black', 'medium'),\n",
       " ('black', 'large'),\n",
       " ('white', 'small'),\n",
       " ('white', 'medium'),\n",
       " ('white', 'large')]"
      ]
     },
     "execution_count": 16,
     "metadata": {},
     "output_type": "execute_result"
    }
   ],
   "source": [
    "colors = ['black', 'white']\n",
    "sizes = ['small', 'medium', 'large']\n",
    "\n",
    "tshirts = [(color, size) for color in colors \n",
    "                         for size in sizes]\n",
    "tshirts"
   ]
  },
  {
   "cell_type": "markdown",
   "id": "698f415f",
   "metadata": {},
   "source": [
    "### Generator Expressions\n",
    "\n",
    "Generator Expressions create iterables that ***yield*** results upon request.<br>\n",
    "This saves memory because it does not build the whole list in memory but only provides values using the iterator protocol.<br>\n",
    "They use the same syntax as listcomps but enclosed with parentheses (instead of square brackets)."
   ]
  },
  {
   "cell_type": "markdown",
   "id": "5154873b",
   "metadata": {},
   "source": [
    "No need to duplicate the parentheses if the genexp is an argument to a function"
   ]
  },
  {
   "cell_type": "code",
   "execution_count": 17,
   "id": "3e965ca0",
   "metadata": {},
   "outputs": [
    {
     "data": {
      "text/plain": [
       "(36, 162, 163, 165, 8364, 164)"
      ]
     },
     "execution_count": 17,
     "metadata": {},
     "output_type": "execute_result"
    }
   ],
   "source": [
    "tuple(ord(symbol) for symbol in symbols)"
   ]
  },
  {
   "cell_type": "markdown",
   "id": "27906157",
   "metadata": {},
   "source": [
    "Genexp are best when the aim is to produce long lists. You don't need to build it in memory. Use a generator expression and serve each item when required. The example below could easily scale to a million items!\n",
    "\n",
    "***An example of a genexp producing a cartesian product***"
   ]
  },
  {
   "cell_type": "code",
   "execution_count": 23,
   "id": "ee7ec73b",
   "metadata": {},
   "outputs": [
    {
     "name": "stdout",
     "output_type": "stream",
     "text": [
      "red-small-plain\n",
      "red-small-patterened\n",
      "red-medium-plain\n",
      "red-medium-patterened\n",
      "red-large-plain\n",
      "red-large-patterened\n",
      "white-small-plain\n",
      "white-small-patterened\n",
      "white-medium-plain\n",
      "white-medium-patterened\n",
      "white-large-plain\n",
      "white-large-patterened\n",
      "black-small-plain\n",
      "black-small-patterened\n",
      "black-medium-plain\n",
      "black-medium-patterened\n",
      "black-large-plain\n",
      "black-large-patterened\n"
     ]
    }
   ],
   "source": [
    "colors = ['red', 'white', 'black']\n",
    "sizes = ['small', 'medium', 'large']\n",
    "designs = ['plain', 'patterened']\n",
    "\n",
    "for tshirt in (f'{color}-{size}-{design}' \n",
    "               for color in colors \n",
    "               for size in sizes \n",
    "               for design in designs):\n",
    "    print(tshirt)"
   ]
  },
  {
   "cell_type": "markdown",
   "id": "98aa0c3e",
   "metadata": {},
   "source": [
    "#### Tuples\n",
    "\n",
    "Tuples are immutable sequences.<br>\n",
    "Tuples are great as records where the order of items matters.<br>\n",
    "They are useful in unpacking operations."
   ]
  },
  {
   "cell_type": "code",
   "execution_count": 29,
   "id": "7fb4a8dd",
   "metadata": {},
   "outputs": [
    {
     "name": "stdout",
     "output_type": "stream",
     "text": [
      "33.9425 -118.408056\n"
     ]
    }
   ],
   "source": [
    "longitude, latitude =  (33.9425, -118.408056)\n",
    "print(longitude,latitude)"
   ]
  },
  {
   "cell_type": "markdown",
   "id": "e7967b12",
   "metadata": {},
   "source": [
    "Tuples are immutable, meaning you cannot change their length.<br>\n",
    "But you can have a list within a tuple that can be mutable!"
   ]
  },
  {
   "cell_type": "code",
   "execution_count": 36,
   "id": "885a2994",
   "metadata": {},
   "outputs": [
    {
     "data": {
      "text/plain": [
       "True"
      ]
     },
     "execution_count": 36,
     "metadata": {},
     "output_type": "execute_result"
    }
   ],
   "source": [
    "a = ('string', 1, [])\n",
    "b = ('string', 1, [])\n",
    "a == b"
   ]
  },
  {
   "cell_type": "code",
   "execution_count": 38,
   "id": "4407fd59",
   "metadata": {},
   "outputs": [
    {
     "data": {
      "text/plain": [
       "False"
      ]
     },
     "execution_count": 38,
     "metadata": {},
     "output_type": "execute_result"
    }
   ],
   "source": [
    "b[2].append('mutation')\n",
    "a == b"
   ]
  },
  {
   "cell_type": "code",
   "execution_count": 39,
   "id": "ea4bcac6",
   "metadata": {},
   "outputs": [
    {
     "data": {
      "text/plain": [
       "('string', 1, ['mutation'])"
      ]
     },
     "execution_count": 39,
     "metadata": {},
     "output_type": "execute_result"
    }
   ],
   "source": [
    "b"
   ]
  },
  {
   "cell_type": "markdown",
   "id": "fdc24982",
   "metadata": {},
   "source": [
    "Tuples with mutable values can be a source of bugs. Try to avoid.<br>\n",
    "Tuples have some optimizations that make them more efficient than lists.\n",
    "Aim to find places where tuples can be used in place of lists. e.g when the number of items is fixed and not expected to change."
   ]
  },
  {
   "cell_type": "markdown",
   "id": "84168564",
   "metadata": {},
   "source": [
    "### Unpacking Sequences and Iterables\n",
    "\n",
    "Unpacking is less error prone than indexing.<br>\n",
    "It works with any data source that supports iteration including those that don't support index notation.\n",
    "\n"
   ]
  },
  {
   "cell_type": "markdown",
   "id": "e9613da1",
   "metadata": {},
   "source": [
    "***Parallel Assignment***"
   ]
  },
  {
   "cell_type": "code",
   "execution_count": 50,
   "id": "12d63b93",
   "metadata": {},
   "outputs": [
    {
     "name": "stdout",
     "output_type": "stream",
     "text": [
      "97 98 99\n"
     ]
    }
   ],
   "source": [
    "# This works!\n",
    "first, second, third = (ord(symbol) for symbol in \"abc\")\n",
    "print(first, second, third)"
   ]
  },
  {
   "cell_type": "code",
   "execution_count": 51,
   "id": "ea3f1ae4",
   "metadata": {},
   "outputs": [
    {
     "ename": "TypeError",
     "evalue": "'generator' object is not subscriptable",
     "output_type": "error",
     "traceback": [
      "\u001b[0;31m---------------------------------------------------------------------------\u001b[0m",
      "\u001b[0;31mTypeError\u001b[0m                                 Traceback (most recent call last)",
      "\u001b[0;32m/tmp/ipykernel_44/1291520161.py\u001b[0m in \u001b[0;36m<module>\u001b[0;34m\u001b[0m\n\u001b[1;32m      1\u001b[0m \u001b[0mgen\u001b[0m \u001b[0;34m=\u001b[0m \u001b[0;34m(\u001b[0m\u001b[0mord\u001b[0m\u001b[0;34m(\u001b[0m\u001b[0msymbol\u001b[0m\u001b[0;34m)\u001b[0m \u001b[0;32mfor\u001b[0m \u001b[0msymbol\u001b[0m \u001b[0;32min\u001b[0m \u001b[0;34m\"abc\"\u001b[0m\u001b[0;34m)\u001b[0m\u001b[0;34m\u001b[0m\u001b[0;34m\u001b[0m\u001b[0m\n\u001b[0;32m----> 2\u001b[0;31m \u001b[0mgen\u001b[0m\u001b[0;34m[\u001b[0m\u001b[0;36m2\u001b[0m\u001b[0;34m]\u001b[0m\u001b[0;34m\u001b[0m\u001b[0;34m\u001b[0m\u001b[0m\n\u001b[0m",
      "\u001b[0;31mTypeError\u001b[0m: 'generator' object is not subscriptable"
     ]
    }
   ],
   "source": [
    "# This does not!\n",
    "gen = (ord(symbol) for symbol in \"abc\")\n",
    "gen[2]"
   ]
  },
  {
   "cell_type": "markdown",
   "id": "1efc3348",
   "metadata": {},
   "source": [
    "*Using the * to prefix a function argument to unpack the values*"
   ]
  },
  {
   "cell_type": "code",
   "execution_count": 57,
   "id": "0bc26120",
   "metadata": {},
   "outputs": [
    {
     "name": "stdout",
     "output_type": "stream",
     "text": [
      "2 0\n"
     ]
    }
   ],
   "source": [
    "values = (10, 5)\n",
    "quotient, remainder = divmod(*values)\n",
    "print(quotient, remainder)"
   ]
  },
  {
   "cell_type": "markdown",
   "id": "7c783811",
   "metadata": {},
   "source": [
    "*Another example using os.path.split*"
   ]
  },
  {
   "cell_type": "code",
   "execution_count": 60,
   "id": "ed8c73d2",
   "metadata": {},
   "outputs": [
    {
     "name": "stdout",
     "output_type": "stream",
     "text": [
      "/home/wilson/.ssh\n",
      "id_rsa.pub\n"
     ]
    }
   ],
   "source": [
    "import os\n",
    "path, filename = os.path.split('/home/wilson/.ssh/id_rsa.pub')\n",
    "print(path)\n",
    "print(filename)"
   ]
  },
  {
   "cell_type": "markdown",
   "id": "0f4f50c8",
   "metadata": {},
   "source": [
    "***Using * to grab excess items***\n",
    "\n",
    "It builds on the `function(*args, **kwargs)` pattern that we are familiar with.<br>\n",
    "Can be done at any position in the sequence. \n"
   ]
  },
  {
   "cell_type": "code",
   "execution_count": 63,
   "id": "4dd43a6a",
   "metadata": {},
   "outputs": [
    {
     "name": "stdout",
     "output_type": "stream",
     "text": [
      "0\n",
      "1\n",
      "[2, 3, 4, 5, 6, 7, 8]\n",
      "9\n"
     ]
    }
   ],
   "source": [
    "first, second, *rest, last = range(10)\n",
    "print(first)\n",
    "print(second)\n",
    "print(rest)\n",
    "print(last)"
   ]
  },
  {
   "cell_type": "markdown",
   "id": "0dc2c9e9",
   "metadata": {},
   "source": [
    "***Using * to unpack sequences***"
   ]
  },
  {
   "cell_type": "code",
   "execution_count": 71,
   "id": "d2b621bf",
   "metadata": {},
   "outputs": [
    {
     "data": {
      "text/plain": [
       "(1, 2, 3, 4)"
      ]
     },
     "execution_count": 71,
     "metadata": {},
     "output_type": "execute_result"
    }
   ],
   "source": [
    "*(1,2,3,), 4"
   ]
  },
  {
   "cell_type": "code",
   "execution_count": 70,
   "id": "466446d8",
   "metadata": {},
   "outputs": [
    {
     "data": {
      "text/plain": [
       "[0, 1, 2, 3, 4]"
      ]
     },
     "execution_count": 70,
     "metadata": {},
     "output_type": "execute_result"
    }
   ],
   "source": [
    "[*range(4), 4]"
   ]
  },
  {
   "cell_type": "markdown",
   "id": "7c90eda3",
   "metadata": {},
   "source": [
    "### Slicing\n",
    "\n",
    "Slice sequences using `seq[start:stop:stride]`"
   ]
  },
  {
   "cell_type": "code",
   "execution_count": 4,
   "id": "48e7da65",
   "metadata": {},
   "outputs": [
    {
     "data": {
      "text/plain": [
       "[2, 4, 6, 8]"
      ]
     },
     "execution_count": 4,
     "metadata": {},
     "output_type": "execute_result"
    }
   ],
   "source": [
    "\n",
    "l = [*range(20)]\n",
    "\n",
    "l[s]"
   ]
  },
  {
   "cell_type": "markdown",
   "id": "a7a4a622",
   "metadata": {},
   "source": [
    "- You can create slices and name them making code a little more readable"
   ]
  },
  {
   "cell_type": "code",
   "execution_count": 1,
   "id": "dbcc45ff",
   "metadata": {},
   "outputs": [
    {
     "name": "stdout",
     "output_type": "stream",
     "text": [
      "['John', 'Paul', 'Joseph', 'Mike', 'David']\n",
      "['Mary', 'Sarah', 'Ruth', 'Esther', 'Naomi']\n"
     ]
    }
   ],
   "source": [
    "# A contrived example but it illustrates the point\n",
    "\n",
    "BOYS = slice(1,10,2)\n",
    "GIRLS = slice(0,10,2)\n",
    "\n",
    "students = ['Mary', 'John', 'Sarah', 'Paul', 'Ruth', 'Joseph', 'Esther', 'Mike', 'Naomi', 'David']\n",
    "\n",
    "print(students[BOYS])\n",
    "print(students[GIRLS])"
   ]
  },
  {
   "cell_type": "markdown",
   "id": "13887bca",
   "metadata": {},
   "source": [
    "#### Mutiating values to sequences using slices\n",
    "We can mutate values in a sequence using a slice as the left operand of an assignment operation"
   ]
  },
  {
   "cell_type": "code",
   "execution_count": 19,
   "id": "5e721019",
   "metadata": {},
   "outputs": [
    {
     "data": {
      "text/plain": [
       "[0, 1, 2, 300, 4, 400, 6, 500, 8, 600]"
      ]
     },
     "execution_count": 19,
     "metadata": {},
     "output_type": "execute_result"
    }
   ],
   "source": [
    "l = [*range(10)]\n",
    "l[3:10:2] = [300, 400, 500, 600]\n",
    "l"
   ]
  },
  {
   "cell_type": "markdown",
   "id": "f85dd2c1",
   "metadata": {},
   "source": [
    "#### Using + (addition) and * (multiplication) operators with sequences\n",
    "We can use + to concatenate sequences.<br>\n",
    "We can use * to multiply sequences."
   ]
  },
  {
   "cell_type": "code",
   "execution_count": 22,
   "id": "d1816fe8",
   "metadata": {},
   "outputs": [
    {
     "data": {
      "text/plain": [
       "'abcdef'"
      ]
     },
     "execution_count": 22,
     "metadata": {},
     "output_type": "execute_result"
    }
   ],
   "source": [
    "'abc' + 'def'"
   ]
  },
  {
   "cell_type": "code",
   "execution_count": 21,
   "id": "8ddf4c5a",
   "metadata": {},
   "outputs": [
    {
     "data": {
      "text/plain": [
       "'abcabcabcabcabc'"
      ]
     },
     "execution_count": 21,
     "metadata": {},
     "output_type": "execute_result"
    }
   ],
   "source": [
    "'abc'*5"
   ]
  },
  {
   "cell_type": "markdown",
   "id": "e472a7a8",
   "metadata": {},
   "source": []
  },
  {
   "cell_type": "markdown",
   "id": "6300d8a3",
   "metadata": {},
   "source": [
    "Remember Inplace additions or multiplications modify the original list<br>\n",
    "equivalent to `list.extend()`"
   ]
  },
  {
   "cell_type": "code",
   "execution_count": 24,
   "id": "dc8854e1",
   "metadata": {},
   "outputs": [
    {
     "name": "stdout",
     "output_type": "stream",
     "text": [
      "[1, 2, 3, 4, 5, 6]\n",
      "[1, 2, 3]\n"
     ]
    }
   ],
   "source": [
    "list1 = [1, 2, 3]\n",
    "list2 = [4, 5, 6]\n",
    "\n",
    "#list1 remains unchanged\n",
    "print(list1 + list2)\n",
    "print(list1)"
   ]
  },
  {
   "cell_type": "code",
   "execution_count": 25,
   "id": "1c31f054",
   "metadata": {},
   "outputs": [
    {
     "data": {
      "text/plain": [
       "[1, 2, 3, 4, 5, 6]"
      ]
     },
     "execution_count": 25,
     "metadata": {},
     "output_type": "execute_result"
    }
   ],
   "source": [
    "# Inplace assignment changes the list on the left!\n",
    "\n",
    "list1 += list2\n",
    "list1"
   ]
  },
  {
   "cell_type": "markdown",
   "id": "ad0158fa",
   "metadata": {},
   "source": [
    "#### list.sort() and sorted()"
   ]
  },
  {
   "cell_type": "markdown",
   "id": "00f71844",
   "metadata": {},
   "source": [
    "`list.sort()` sorts the list in place and does not return the list"
   ]
  },
  {
   "cell_type": "code",
   "execution_count": 28,
   "id": "e4ec5f5f",
   "metadata": {},
   "outputs": [
    {
     "name": "stdout",
     "output_type": "stream",
     "text": [
      "None\n"
     ]
    },
    {
     "data": {
      "text/plain": [
       "[1, 2, 3, 5, 6]"
      ]
     },
     "execution_count": 28,
     "metadata": {},
     "output_type": "execute_result"
    }
   ],
   "source": [
    "l = [5, 2, 6, 3, 1]\n",
    "# returns None but sorts the list in place i.e mutates the original list\n",
    "print(l.sort())\n",
    "l"
   ]
  },
  {
   "cell_type": "markdown",
   "id": "99db5019",
   "metadata": {},
   "source": [
    "`sorted()` sorts the list or any sequence for that matter and returns it"
   ]
  },
  {
   "cell_type": "code",
   "execution_count": 32,
   "id": "b53fcf64",
   "metadata": {},
   "outputs": [
    {
     "name": "stdout",
     "output_type": "stream",
     "text": [
      "[1, 2, 3, 5, 6]\n",
      "[5, 2, 6, 3, 1]\n"
     ]
    }
   ],
   "source": [
    "l = [5, 2, 6, 3, 1]\n",
    "print(sorted(l))\n",
    "# original list remains unchanged\n",
    "print(l)"
   ]
  },
  {
   "cell_type": "markdown",
   "id": "67993a70",
   "metadata": {},
   "source": [
    "Both accept two optional keyword parameters, key and reversed.<br>\n",
    "`key` lets you provide a sorting key - a one parameter function that determines the sorting key. eg. you can sort by string length rather that by alphabetical order"
   ]
  },
  {
   "cell_type": "code",
   "execution_count": 30,
   "id": "bfaf9cd1",
   "metadata": {},
   "outputs": [
    {
     "data": {
      "text/plain": [
       "['z', 'ab', 'cdef']"
      ]
     },
     "execution_count": 30,
     "metadata": {},
     "output_type": "execute_result"
    }
   ],
   "source": [
    "l = ['z', 'cdef', 'ab']\n",
    "sorted(l, key=len)"
   ]
  }
 ],
 "metadata": {
  "kernelspec": {
   "display_name": "Python 3 (ipykernel)",
   "language": "python",
   "name": "python3"
  },
  "language_info": {
   "codemirror_mode": {
    "name": "ipython",
    "version": 3
   },
   "file_extension": ".py",
   "mimetype": "text/x-python",
   "name": "python",
   "nbconvert_exporter": "python",
   "pygments_lexer": "ipython3",
   "version": "3.9.13"
  }
 },
 "nbformat": 4,
 "nbformat_minor": 5
}
