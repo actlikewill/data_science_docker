{
 "cells": [
  {
   "cell_type": "markdown",
   "id": "0498140d",
   "metadata": {},
   "source": [
    "## Dicts and Sets"
   ]
  },
  {
   "cell_type": "markdown",
   "id": "ee770316",
   "metadata": {},
   "source": [
    "### Dict comprehension"
   ]
  },
  {
   "cell_type": "code",
   "execution_count": 9,
   "id": "997b64b9",
   "metadata": {},
   "outputs": [
    {
     "data": {
      "text/plain": [
       "{'254': 'Kenya', '255': 'Tanzania', '256': 'Uganda'}"
      ]
     },
     "execution_count": 9,
     "metadata": {},
     "output_type": "execute_result"
    }
   ],
   "source": [
    "\n",
    "dial_codes = [\n",
    "    (\"254\", \"Kenya\"),\n",
    "    (\"255\", \"Tanzania\"),\n",
    "    (\"256\", \"Uganda\")\n",
    "]\n",
    "# We can do this directly but we want the key:value pair to be country:code\n",
    "dict(dial_codes)"
   ]
  },
  {
   "cell_type": "code",
   "execution_count": 10,
   "id": "b7ca4f26",
   "metadata": {},
   "outputs": [
    {
     "data": {
      "text/plain": [
       "{'Kenya': '254', 'Tanzania': '255', 'Uganda': '256'}"
      ]
     },
     "execution_count": 10,
     "metadata": {},
     "output_type": "execute_result"
    }
   ],
   "source": [
    "{country:code for code, country in dial_codes}"
   ]
  },
  {
   "cell_type": "markdown",
   "id": "f46da9aa",
   "metadata": {},
   "source": [
    "Mapping of "
   ]
  },
  {
   "cell_type": "code",
   "execution_count": 12,
   "id": "476d968a",
   "metadata": {},
   "outputs": [
    {
     "data": {
      "text/plain": [
       "{'name': 'michelle', 'age': 35, 'location': 'Nairobi'}"
      ]
     },
     "execution_count": 12,
     "metadata": {},
     "output_type": "execute_result"
    }
   ],
   "source": [
    "a = {\"name\": \"wilson\", \"age\": 34}\n",
    "b = {\"name\": \"michelle\", \"age\": 35, \"location\": \"Nairobi\"}\n",
    "\n",
    "a | b"
   ]
  }
 ],
 "metadata": {
  "kernelspec": {
   "display_name": "Python 3 (ipykernel)",
   "language": "python",
   "name": "python3"
  },
  "language_info": {
   "codemirror_mode": {
    "name": "ipython",
    "version": 3
   },
   "file_extension": ".py",
   "mimetype": "text/x-python",
   "name": "python",
   "nbconvert_exporter": "python",
   "pygments_lexer": "ipython3",
   "version": "3.9.7"
  }
 },
 "nbformat": 4,
 "nbformat_minor": 5
}
